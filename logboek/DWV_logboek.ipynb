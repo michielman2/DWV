{
 "cells": [
  {
   "cell_type": "markdown",
   "metadata": {},
   "source": [
    "# Meta genomics DWV logboek\n"
   ]
  },
  {
   "cell_type": "markdown",
   "metadata": {},
   "source": [
    "## Data\n",
    "De data voor dit onderzoek is verkregen op 5 november 2019, en er is een eerder kort onderzoek op 5 and 18 december 2019 naar deze data gedaan. Uit het eerdere onderzoek is gebleken dat de genoomsequentie van DWV 11kb lang is. De data gemaakt tijdens het vorige onderzoek wordt in dit logboek vergeleken met onze eigen data."
   ]
  },
  {
   "cell_type": "markdown",
   "metadata": {},
   "source": [
    "## Benodigdheden\n",
    "Alle door ons gebruikte libraries en dependencies staan in het bijgevoegde environments.yaml, Hier kan een conda environment van gemaakt worden met het volgende commando:\n",
    "> $ conda env create --name [envname] --file=environments.yml\n",
    ">\n",
    "Deze conda environment kan worden geactiveerd met het volgende commando:\n",
    "> $ conda activate [envname]\n",
    ">\n",
    "Vervang in deze commando's '[envname]' met een omgevingsnaam naar keuze. \\\n",
    "Alle libraries/dependencies hebben wij met behulp van pip install of conda install in onze conda environment geïnstalleerd.\n",
    "\n",
    "Door ons gebruikte tools/programma's:\n",
    "- Awk (5.2.1)\n",
    "- Clustal Omega (1.2.4)\n",
    "\n",
    "\n",
    "Naast guppy, die op het graphix1 systeem (Intel® i5-8600K, dual NVIDIA GeForce GTX 1080 Ti, 64GB MEM) is gerunt, zijn alle tools op het assemblix systeem (Intel® Xeon® Gold 6248 Processor, Integrated Matrox G200eW3, 881GB MEM) gerunt."
   ]
  },
  {
   "cell_type": "markdown",
   "metadata": {},
   "source": [
    "## Basecalling\n",
    "Basecalling is het vertalen van de elektrische stroomveranderingen die waren gemeten toen de nucleotiden door de Nanopore gingen, naar nucleobasen (een A,T,C of G). Voor deze vertaling zijn er meerdere tools om uit te kiezen. De snelste en best presterende basecaller is Dorado, dus we begonnen met deze. \\\n",
    "Na alles te installeren en het te runnen kregen we deze error: \n",
    "\n",
    "> No supported chemistry for Flowcell:'FLO-MIN106', Kit:'SQK-RNA001' and Sampling Rate:3012 \n",
    "\n",
    "Onze data is met een FLO-MIN106 Flowcell gebasecalled.\n",
    "Volgens een github comment van raronan op de dorado pagina: https://github.com/nanoporetech/dorado/issues/214 Is onze pore versie r9.4.1. \n",
    "\n",
    "Het lijkt erop dat dorado ons type flowcell niet ondersteunt. Als we opzoeken of dorado specifiek deze flowcell ondersteunt kunnen we niet direct wat over ons type vinden. Maar wel een kort lijstje aan versies die niet meer ondersteund worden, deze lijst https://github.com/nanoporetech/dorado/issues/650 gaat van r9.5 tot r10.4, onze versie (r0.4.1) is ouder dan dit. Het lijkt erop dat wij niet dorado kunnen gebruiken voor onze data. \n",
    "\n",
    "We hebben besloten de basecalling met guppy te doen, deze tool werkt met oude(re) flowcells. Guppy is echter wel minder snel dan Dorado."
   ]
  },
  {
   "cell_type": "markdown",
   "metadata": {},
   "source": [
    "### Guppy\n",
    "\n",
    "Guppy is een basecaller die sinds eind 2017 openbaar beschikbaar is. \\\n",
    "Wij hebben guppy gebruikt om de fast5 data opnieuw te basecallen. Hiervoor hebben wij deze rule gebruikt:\n"
   ]
  },
  {
   "cell_type": "code",
   "execution_count": null,
   "metadata": {},
   "outputs": [],
   "source": [
    "rule guppy: \n",
    "\n",
    "input: \n",
    "\n",
    "'/commons/Themas/Thema07/metagenomics/DWV/Sick_Beezzz/20191218_1217_MN30556_FAL66274_dd5dacb8/fast5_pass/' \n",
    "\n",
    "output: \n",
    "\n",
    "'/students/2023-2024/Thema07/Sick_beez/guppy_out/' \n",
    "\n",
    "shell: \n",
    "\n",
    "'/opt/ont/ont-guppy/bin/guppy_basecaller -i {input} -s {output} -c /opt/ont/ont-guppy/data/rna_r9.4.1_70bps_hac.cfg --min_qscore 7 --recursive -x 'cuda:0' --num_callers 4 --gpu_runners_per_device 4 --chunks_per_runner 1024 --chunk_size 1000 --compress_fastq' \n",
    "\n",
    " "
   ]
  },
  {
   "cell_type": "markdown",
   "metadata": {},
   "source": [
    "Wij hebben een nieuwere model gebruikt zodat guppy accurater de bases uit de fast5 files kan callen. Wij hebben dit op het graphix1 systeem gerunt op een NVIDIA GeForce GTX 1080 Ti. Het basecallen van alle data duurde ongeveer 15 minuten. \\\n",
    "Basecallen werd vroeger op uitsluitend CPU (processor) gedaan, maar tegenwoordig wordt er meestal een CUDA enabled GPU gebruikt. Op deze pagina van Nvidia staan alle CUDA Enabled GPU's: https://developer.nvidia.com/cuda-gpus. CUDA is eigendom van Nvidia, en dus de enige producent."
   ]
  },
  {
   "cell_type": "markdown",
   "metadata": {},
   "source": [
    "In de home stonden de conda channels, hier stond een URL bij, deze hebben wij verwijderd zodat we weer met guppy kunnen basecallen.  "
   ]
  },
  {
   "cell_type": "markdown",
   "metadata": {},
   "source": [
    "## Quality control\n",
    "Quility control helpt bij het snel identificeren van reads van slechte kwaliteit, het vinden/aantonen van problemen met de gegevens en geeft algemene informatie over de gegeven sample.\n",
    "Voor de quality control twijfelden we tussen de tools: FastQC en NanoPlot. We hadden meer ervaring met fastqc maar NanoPlot is specifiek voor MinION/Nanopore data gemaakt. Na met beide kort een testrun te doen zijn we op NanoPlot uitgekomen. NanoPlot is makkelijker in gebruik voor MinION/Nanopore data."
   ]
  },
  {
   "cell_type": "markdown",
   "metadata": {},
   "source": [
    "### NanoPlot op de oude data\n",
    "De door ons gebruikte Nanopore data is al eerder gebasecalled in december 2016 met guppy versie 3.2.6+afc8e14. Om te beginnen gingen we de kwaliteit van deze oude data kijken.\n",
    "\n",
    "We hebben NanoPlot geprobeerd te runnen op de oude data. Het was niet mogelijk om NanoPlot op onze folder met guppy data te runnen, dus hebben we NanoPlot op 1 bestand toegepast."
   ]
  },
  {
   "cell_type": "code",
   "execution_count": null,
   "metadata": {},
   "outputs": [],
   "source": [
    "rule nanoplot: \n",
    "    input: \n",
    "        reads=\"/homes/haroorda/periode_7/sick_beez/zipje/your_archive.tar.gz\" \n",
    "    output: \n",
    "        html=\"results_2/nanoplot_reads.html\", \n",
    "    shell: \n",
    "        \"\"\" \n",
    "        mkdir -p temp_directory && \\ \n",
    "        tar -zxvf {input.reads} -C temp_directory && \\ \n",
    "        NanoPlot --fastq temp_directory/*.fastq -o {output.html} && \\ \n",
    "        rm -rf temp_directory \n",
    "        \"\"\" "
   ]
  },
  {
   "cell_type": "markdown",
   "metadata": {},
   "source": [
    "Dit is niet gelukt, we kregen errors die niet op te lossen waren. Dit kwam omdat we het op de hele folder met de fastq files wilden runen.\n",
    "Volgens de documentatie had dit moeten kunnen op de fastq files. \n",
    "Wel is het gelukt om NanoPlot te runnen op 1 file. "
   ]
  },
  {
   "cell_type": "code",
   "execution_count": null,
   "metadata": {},
   "outputs": [],
   "source": [
    "/commons/docent/Thema07/metagenomics/DWV/Sick_Beezzz/20191218_1217_MN30556_FAL66274_dd5dacb8/guppy_out_fast/pass$ NanoPlot --fastq fastq_runid_61214d90674fb476eeea0df13759443ace338524_0_0.fastq -o ~/Desktop/test_nanoplot "
   ]
  },
  {
   "cell_type": "markdown",
   "metadata": {},
   "source": [
    "### NanoPlot op de nieuwe data\n",
    "We hebben NanoPlot op de nieuwe versie van hetzelfde bestand toegepast. NanoPlot op een hele map te toepassen werkt vooralsnog niet. We hebben de NanoPlots van de oude en nieuwe gebasecallede data vergeleken en we zagen dat de gemiddelde quality van 8.5 naar 9.9 ging.\n",
    "\n",
    "Op alle de data die uit onze guppy run kwam hebben wij NanoPlot gerunt. Omdat dit niet op de hele folder kan, hebben we het per bestand gedaan. Hiervoor hebben wij deze code gebruikt:"
   ]
  },
  {
   "cell_type": "code",
   "execution_count": null,
   "metadata": {},
   "outputs": [],
   "source": [
    "input_folder=\"/students/2023-2024/Thema07/Sick_beez/guppy_out/pass/\" \n",
    "\n",
    "counter=0 \n",
    "\n",
    "for file in \"$input_folder\"*.fastq.gz; do \n",
    "\n",
    "counter_str=$(printf \"%04d\" $counter) \n",
    "\n",
    "NanoPlot --fastq \"$file\" --outdir /students/2023-2024/Thema07/Sick_beez/Nanoplot/ --prefix \"$counter_str\" --only-report \n",
    "\n",
    "((counter++)) \n",
    "\n",
    "done "
   ]
  },
  {
   "cell_type": "markdown",
   "metadata": {},
   "source": [
    "Omdat we het per bestand runnen, eindigen we met 60 losse NanoPlot html-bestanden. We moeten eerst de fastq files die uit guppy komen samenvoegen tot 1 groot fastq bestand. Wat we al wel konden zien in de 60 gemaakte NanoPlot bestanden was dat er reads waren die tussen de 10 en 11 duizend baseparen zaten. Dit komt overeen met de lengte van het DWV genoom dat in het vorige onderzoek was aangetoond. Als wij een bestand maken waar alle reads in staan kunnen wij daarna alle reads boven de 10k baseparen selecteren om alleen de DWV genomen op te nemen."
   ]
  },
  {
   "cell_type": "markdown",
   "metadata": {},
   "source": [
    "### Cat command\n",
    "Hieronder worden de files geconcataneerd met behulp van het cat commando. Het is niet heel efficient, maar het werkt wel. FASTQ en FASTA bestanden bestaan alleen uit tekst, de stukken tekst van meerdere bestanden kunnen zonder problemen in 1 bestand achter elkaar worden geplaatst. \\\n",
    "Als input pakken we alle bestanden uit '/students/2023-2024/Thema07/Sick_beez/guppy_out/pass/' die eindigen op '.fastq.gz', deze bestanden unzippen we met gunzip, dat voegen we dan aan elkaar met het cat commando. Tot slot zippen we het bestand met gzip. De output is 1 grote (.fastq.fz) file met alle fastq files erin verwerkt."
   ]
  },
  {
   "cell_type": "code",
   "execution_count": null,
   "metadata": {},
   "outputs": [],
   "source": [
    "cat /students/2023-2024/Thema07/Sick_beez/guppy_out/pass/*.fastq.gz | gunzip -c > /students/2023-2024/Thema07/Sick_beez/big_guppy/big_guppy.fastq \n",
    "\n",
    "gzip /students/2023-2024/Thema07/Sick_beez/big_guppy/big_guppy.fastq"
   ]
  },
  {
   "cell_type": "markdown",
   "metadata": {},
   "source": [
    "Nu runnen we NanoPlot op het geconcateneerde fastq bestand. Er blijft een html bestand over."
   ]
  },
  {
   "cell_type": "code",
   "execution_count": null,
   "metadata": {},
   "outputs": [],
   "source": [
    "NanoPlot --fastq \"/students/2023-2024/Thema07/Sick_beez/big_guppy/big_guppy.fastq.gz\" --outdir /students/2023-2024/Thema07/Sick_beez/big_nanoplot/ --prefix \"big_\" --only-report "
   ]
  },
  {
   "cell_type": "markdown",
   "metadata": {},
   "source": [
    "### Chopper \n",
    "<a href=\"https://github.com/wdecoster/chopper\">Chopper</a>\n",
    "is een combinatie van de tools: NanoFilt en NanoLyse. Deze tool filtert en trimt een fastq-bestand. Op basis van gemiddelde read quality en minimale of maximale read length. Ook kan de tool een bepaald aantal baseparen van het begin of het einde van de reads verwijderen. Dit kan worden gedaan om adapter sequenties, Primer Artifacts of baseparen met slechte kwaliteit te verwijderen (wat vaker voorkomt aan het einde van een read) eruit te halen, en zo de kwaliteit van de data te verhogen.\n",
    "\n",
    "DWV heeft ongeveer een lengte van 10kb - 11kb dus om deze eruit te halen hebben we alle reads boven de 10kb uit het grote bestand gefilterd om dit te doen hebben wij chopper gebruikt. Hiervoor is deze code gebruikt:"
   ]
  },
  {
   "cell_type": "code",
   "execution_count": null,
   "metadata": {},
   "outputs": [],
   "source": [
    "gunzip -c /students/2023-2024/Thema07/Sick_beez/big_guppy/big_guppy.fastq.gz | chopper -l 10000 | gzip > /students/2023-2024/Thema07/Sick_beez/trimmed_fastq/filtered_reads.fastq.gz "
   ]
  },
  {
   "cell_type": "markdown",
   "metadata": {},
   "source": [
    "Wij hebben chopper alleen gebruikt voor de sequentie lengte omdat er bij het basecallen al op een minimum quality van 7 getrimmed is, de kwaliteit was al in orde.\n",
    "\n",
    "Hierna hebben wij NanoPlot op de getrimde data gerunt:"
   ]
  },
  {
   "cell_type": "code",
   "execution_count": null,
   "metadata": {},
   "outputs": [],
   "source": [
    "NanoPlot --fastq \"/students/2023-2024/Thema07/Sick_beez/trimmed_fastq/filtered_reads.fastq.gz\" --outdir /students/2023-2024/Thema07/Sick_beez/trimmed_nanoplot/ --prefix \"trimmed_\" --only-report "
   ]
  },
  {
   "cell_type": "markdown",
   "metadata": {},
   "source": [
    "### FASTQ naar FASTA\n",
    "Daarna hebben we in <a href=\"https://www.gnu.org/software/gawk/manual/gawk.html\">Awk</a> de FASTQ file omgezet naar een FASTA file om deze te gebruiken met de volgende tool, Clustal Omega.\n",
    "AWK is een populaire text-processing programmeertaal op GNU/Linux. \\\n",
    "Het van FASTQ omzetten in FASTA lukte aanvankelijk niet in snakemake en dit hadden we dus met terminal code gedaan. Uiteindelijk hebben we het wel werkende gekregen in snakemake, dit hebben we gedaan met het volgende commando:"
   ]
  },
  {
   "cell_type": "code",
   "execution_count": null,
   "metadata": {},
   "outputs": [],
   "source": [
    "gunzip -c /students/2023-2024/Thema07/Sick_beez/trimmed_fastq/filtered_reads.fastq.gz | awk '{if(NR%4==1) {printf(\">%s\\n\",substr($0,2));} else if(NR%4==2) print;}' > /students/2023-2024/Thema07/Sick_beez/trimmed_fasta/filtered_reads.fasta "
   ]
  },
  {
   "cell_type": "markdown",
   "metadata": {},
   "source": [
    "## Clustal Omega\n",
    "Clustal Omega is een multiple sequence alignment (MSA) programma. Net als de voorganger ClustalW, kan het DNA-, RNA- en eiwitsequenties allignen. ClustalW komt uit 1994, en Clustal Omega komt uit 2016. Clustal Omega maakt gebruik van met seeded guide trees en HMM profile-profile techniques, en werkt alleen bij 3 of meer sequenties."
   ]
  },
  {
   "cell_type": "code",
   "execution_count": null,
   "metadata": {},
   "outputs": [],
   "source": [
    "clustalo -i /students/2023-2024/Thema07/Sick_beez/trimmed_fasta/fileter_reads.fasta -o /students/2023-2024/Thema07/Sick_beez/output_clustalo/output_omega.msa.fa"
   ]
  },
  {
   "cell_type": "markdown",
   "metadata": {},
   "source": [
    "De eerste keer hadden thread count meegegeven, waardoor deze op de default van 1 thread runde. Na 30 uur was de server nogsteeds bezig. We hebben deze uitgezet en hebben de command line nog een keer gerunt maar dan met 40 threads in plaats van de default thread count."
   ]
  },
  {
   "cell_type": "code",
   "execution_count": null,
   "metadata": {},
   "outputs": [],
   "source": [
    "clustalo -i /students/2023-2024/Thema07/Sick_beez/trimmed_fasta/filtered_reads.fasta -o /students/2023-2024/Thema07/Sick_beez/output_clustalo/output_omega.msa.fa --threads 40\n"
   ]
  },
  {
   "cell_type": "markdown",
   "metadata": {},
   "source": [
    "Hij deed hier nu maar 3-4 uur over, dit is een hele verbetering. We hadden echter geen guide tree optie meegegeven, waardoor we het opnieuw moesten runnen, met '--guidetree-out' erachter."
   ]
  },
  {
   "cell_type": "code",
   "execution_count": null,
   "metadata": {},
   "outputs": [],
   "source": [
    "clustalo -i /students/2023-2024/Thema07/Sick_beez/trimmed_fasta/filtered_reads.fasta -o /students/2023-2024/Thema07/Sick_beez/output_clustalo/output_omega.aln --threads 80 --guidetree-out /students/2023-2024/Thema07/Sick_beez/output_clustalo/output_tree.txt "
   ]
  },
  {
   "cell_type": "markdown",
   "metadata": {},
   "source": [
    "Hierboven is de code gerunt met de guide tree optie erbij, ook hebben wij gekozen voor 80 threads zodat de tool nog sneller klaar zou zijn. De laatste run (met guidetree) duurde 2 uur."
   ]
  },
  {
   "cell_type": "markdown",
   "metadata": {},
   "source": [
    "## Tree visualisatie \n",
    "Clustal Omega's phylogenetische boom is in een Newick tree format. Om van de newick file naar een zichtbare phylogenetische boom te gaan is de tool ete3 gebruikt. \\\n",
    "Environment for Tree Exploration (ETE) is een programming toolkit in Python dat kan helpen bij het opnieuw construeren, manipuleren, analyseren en visualiseren van fylogenetische bomen (clustering trees of andere tree-like data structure worden ook ondersteund).\n",
    "\n",
    "ete3 zet de newick file format om in een visueel bestand. De output is een phylogenetische boom.  "
   ]
  },
  {
   "cell_type": "code",
   "execution_count": null,
   "metadata": {},
   "outputs": [],
   "source": [
    "from ete3 import Tree \n",
    "\n",
    "tree_path = \"/students/2023-2024/Thema07/Sick_beez/output_clustalo/output_tree.txt\"\n",
    "tree = Tree(tree_path)\n",
    "tree.show() "
   ]
  },
  {
   "cell_type": "markdown",
   "metadata": {},
   "source": [
    "De boom die hier uit kwam was niet erg goed, dit komt ook omdat de boom te veel entiteiten heeft. Onze sequencing methode is 92% accuraat, bij ~2% verschil wordt het in de phylogenetische boom al als een nieuwe soort gemarkeerd, waardoor er te veel (verschillende) soorten zijn. De namen van de virussen zijn hierdoor lastig te lezen en niet goed te begrijpen. \\ We hebben uiteindelijk besloten deze phylogenetische boom wel te gebruiken, omdat het probleem een limitatie van onze sequencing is, en dus niet goed te verhelpen is."
   ]
  },
  {
   "cell_type": "markdown",
   "metadata": {},
   "source": [
    "## Missmatch en mutatie hotspots\n",
    "AlignIO is een multiple sequence Alignment Input/Output interface, AlignIO is onderdeel van de BIO package. Wij gebruiken het om een figuur van de output van Clustal Omega te genereren.\n",
    "\n",
    "Hieronder is code waarmee met AlignIO de missmatch en mutatiehotspots grafiek is gemaakt."
   ]
  },
  {
   "cell_type": "code",
   "execution_count": null,
   "metadata": {},
   "outputs": [],
   "source": [
    "from Bio import AlignIO \n",
    "import matplotlib.pyplot as plt\n",
    "\n",
    "alignment = AlignIO.read(\"/students/2023-2024/Thema07/Sick_beez/output_clustalo/output_omega.msa.fa\", \"fasta\") \n",
    "matches = [sum(1 for seq in alignment[:, i] if seq == alignment[0, i]) for i in range(alignment.get_alignment_length())] \n",
    "mismatches = [alignment.get_alignment_length() - m for m in matches ] \n",
    "plt.figure(figsize=(10, 5)) \n",
    "plt.plot(range(1, alignment.get_alignment_length() + 1), mismatches, color='red', label='Mismatches') \n",
    "plt.plot(range(1, alignment.get_alignment_length() + 1), matches, color='blue', label='Matches') \n",
    "plt.xlabel('Position in Alignment') \n",
    "plt.ylabel('Number of Matches/Mismatches') \n",
    "plt.title('Mutation Hotspots') \n",
    "plt.legend() \n",
    "plt.show() "
   ]
  },
  {
   "cell_type": "markdown",
   "metadata": {},
   "source": [
    "De grafiek die hieruit komt laat het aantal missmatches en matches per positie zien. Hieruit kan je opmaken waar de mutaties zitten."
   ]
  },
  {
   "cell_type": "markdown",
   "metadata": {},
   "source": [
    "## Consensussequentie\n",
    "Een consensussequentie (of canonieke sequentie) is de gecombineerde sequentie samengesteld uit de, per locatie meest frequente nucleotide (of aminozuur). Er zijn hier minimaal 3 sequenties voor nodig.\n",
    "\n",
    "Hieronder staat een python script, die met behulp van AlignIO, en counter werkt. Deze maakt van de MSA sequentie een consensus sequentie. De counter function returneerd wanneer deze een iterable (meestal een list) krijgt een dict, met als key alle unieke tekens (die in de iterable voorkomen), en als de daarbijbehorende value hoe vaak dit teken voorkwam (als een int)."
   ]
  },
  {
   "cell_type": "code",
   "execution_count": null,
   "metadata": {},
   "outputs": [],
   "source": [
    "from Bio import AlignIO \n",
    "from collections import Counter \n",
    "\n",
    "# Load the alignment \n",
    "alignment = AlignIO.read(\"/students/2023-2024/Thema07/Sick_beez/output_clustalo/output_omega.msa.fa\", \"fasta\") \n",
    "\n",
    "# Calculate the consensus sequence \n",
    "consensus_seq = \"\" \n",
    "for i in range(len(alignment[0])): \n",
    "    column = alignment[:, i] \n",
    "    counts = Counter(column) \n",
    "    consensus_base = counts.most_common(1)[0][0] \n",
    "    base_count = column.count(consensus_base) \n",
    "    base_percentage = base_count / len(column) \n",
    "    if base_percentage > 0.5 : \n",
    "        if consensus_base != '-': \n",
    "            consensus_seq += consensus_base \n",
    "        else: \n",
    "            consensus_seq += '-' \n",
    "\n",
    "# Write the consensus sequence to a file \n",
    "with open(\"/students/2023-2024/Thema07/Sick_beez/consensus/omega_consensus.fasta\", \"w\") as output_file: \n",
    "    output_file.write(\">Consensus\\n\") \n",
    "    output_file.write(consensus_seq + \"\\n\") "
   ]
  },
  {
   "cell_type": "markdown",
   "metadata": {},
   "source": [
    "## Clustering\n",
    "Vsearch is een tool die sequenties die op elkaar lijken clustered. Alles wat op elkaar lijkt (90% overeenkomst) wordt door Vsearch geclustered en krijgt een consensus sequentie. Dit resulteert in 120 consensus sequentie.\n",
    "Daarna hebben we met Clustal Omega de op deze 120 consensus sequentie Multiple sequence allignment (MSA) gedaan."
   ]
  },
  {
   "cell_type": "code",
   "execution_count": null,
   "metadata": {},
   "outputs": [],
   "source": [
    "vsearch --cluster_fast '/students/2023-2024/Thema07/Sick_beez/trimmed_fastq/filtered_reads.fastq.gz' --id 0.85 --strand both --clusters '/students/2023-2024/Thema07/Sick_beez/output_vsearch/cluster_vsearch.fasta'. --threads 40 --consout \"/students/2023-2024/Thema07/Sick_beez/output_vsearch/consensus_vsearch.fasta\"  \n",
    "\n",
    "clustalo -i /students/2023-2024/Thema07/Sick_beez/output_vsearch/consensus_vsearch.fasta -o /students/2023-2024/Thema07/Sick_beez/output_clustalo/vsearch_omega.aln --threads 80 --guidetree-out /students/2023-2024/Thema07/Sick_beez/output_clustalo/vsearch_tree.txt "
   ]
  },
  {
   "cell_type": "markdown",
   "metadata": {},
   "source": [
    "Deze python code kijkt per positie in de genomen welke base het meest voorkomt (in alle genomen). Als deze base meer dan 50% van de keren voorkomt wordt hij in de consensus sequentie geplaatst. Als er meer dan 50% van de keren een gap is wordt deze verwijdert. Als niks meer dan 50% heeft wordt er een gap in de consensus sequentie geplaatst. "
   ]
  },
  {
   "cell_type": "markdown",
   "metadata": {},
   "source": [
    "Hier kwam vergeleken met de vorige consensus sequentie, een drastische andere consensus sequentie uit.\n",
    "\n",
    "Wegens tijd constricties zijn we hier niet verder op ingegaan."
   ]
  },
  {
   "cell_type": "markdown",
   "metadata": {},
   "source": [
    "## Primer3\n",
    "<a href=\"https://github.com/primer3-org\">Primer3</a>  is een veelgebruikt, open-source programma voor het designen van PCR-primers, hybridization probes en sequencing primers.\n",
    "\n",
    "Wij hebben met een python script de eerste regel uit onze consensus sequentie gehaald, enters verwijdert, '-' met 'N' vervangen en van het RNA DNA gemaakt door de 'U' met 'T' te vervangen. Na alle data om te zetten in iets wat primer3 kan gebruiken hebben we primer3 gerunt."
   ]
  },
  {
   "cell_type": "code",
   "execution_count": null,
   "metadata": {},
   "outputs": [],
   "source": [
    "import primer3 \n",
    "\n",
    "sequence = '' \n",
    "with open('/students/2023-2024/Thema07/Sick_beez/consensus/omega_consensus.fasta','r',encoding='UTF8') as consensus: \n",
    "    counter = 0 \n",
    "    for line in consensus: \n",
    "        if counter != 0: \n",
    "            sequence += line \n",
    "        else: \n",
    "            counter += 1 \n",
    "\n",
    "sequence = sequence.replace('\\n','') \n",
    "sequence = sequence.replace('-','N') \n",
    "sequence = sequence.replace('U','T') \n",
    "\n",
    "primers = primer3.bindings.design_primers( \n",
    "seq_args={ \n",
    "    'SEQUENCE_ID': 'DWV', \n",
    "    'SEQUENCE_TEMPLATE': sequence, \n",
    "    }, \n",
    "global_args={ \n",
    "    'PRIMER_OPT_SIZE': 20, \n",
    "    'PRIMER_PICK_INTERNAL_OLIGO': 1, \n",
    "    'PRIMER_INTERNAL_MAX_SELF_END': 8, \n",
    "    'PRIMER_MIN_SIZE': 18, \n",
    "    'PRIMER_MAX_SIZE': 25, \n",
    "    'PRIMER_OPT_TM': 60.0, \n",
    "    'PRIMER_MIN_TM': 57.0, \n",
    "    'PRIMER_MAX_TM': 63.0, \n",
    "    'PRIMER_MIN_GC': 20.0, \n",
    "    'PRIMER_MAX_GC': 80.0, \n",
    "    'PRIMER_MAX_POLY_X': 100, \n",
    "    'PRIMER_INTERNAL_MAX_POLY_X': 100, \n",
    "    'PRIMER_SALT_MONOVALENT': 50.0, \n",
    "    'PRIMER_DNA_CONC': 50.0, \n",
    "    'PRIMER_MAX_NS_ACCEPTED': 0, \n",
    "    'PRIMER_MAX_SELF_ANY': 12, \n",
    "    'PRIMER_MAX_SELF_END': 8, \n",
    "    'PRIMER_PAIR_MAX_COMPL_ANY': 12, \n",
    "    'PRIMER_PAIR_MAX_COMPL_END': 8, \n",
    "    'PRIMER_PRODUCT_SIZE_RANGE': [ \n",
    "    [75,100],[100,125],[125,150], \n",
    "    [150,175],[175,200],[200,225] \n",
    "    ], \n",
    "    })\n",
    "\n",
    "with open('/students/2023-2024/Thema07/Sick_beez/primer3_output/omega_primer3.txt', 'w', encoding='UTF8') as primer_file: \n",
    "    for key, value in primers.items(): \n",
    "        primer_file.write(f\"{key}: {value}\\n\") "
   ]
  },
  {
   "cell_type": "markdown",
   "metadata": {},
   "source": [
    "## Kraken 2 \n",
    "<a href=\"https://github.com/DerrickWood/kraken2\">Kraken 2</a> is een taxonomisch classificatiesysteem dat gebruik maakt van exact <a href=\"https://en.wikipedia.org/wiki/K-mer\">k-mer</a> matches. Deze classificator matcht elke k-mer in een query sequence met de lowest common ancestor (LCA) van alle genomen die het gegeven k-mer bevatten. Ook kan je met kraken 2 een database/library maken, hier hebben wij het voor gebruikt."
   ]
  },
  {
   "cell_type": "code",
   "execution_count": null,
   "metadata": {},
   "outputs": [],
   "source": [
    "kraken2-build --add-to-library /students/2023-2024/Thema07/Sick_beez/genomes/bee.fna --db /students/2023-2024/Thema07/Sick_beez/kraken2_db/DWVdb --threads 50"
   ]
  },
  {
   "cell_type": "markdown",
   "metadata": {},
   "source": [
    "Dit kraken 2 command returneerde een database, die we in het volgende command hebben toegepast op onze data."
   ]
  },
  {
   "cell_type": "code",
   "execution_count": null,
   "metadata": {},
   "outputs": [],
   "source": [
    "kraken2 --db /students/2023-2024/Thema07/Sick_beez/kraken2_db/DWVdb --threads 50 --output /students/2023-2024/Thema07/Sick_beez/kraken2_output/results.txt --report /students/2023-2024/Thema07/Sick_beez/kraken2_output/report.txt /students/2023-2024/Thema07/Sick_beez/big_guppy/big_guppy.fastq.gz"
   ]
  },
  {
   "cell_type": "markdown",
   "metadata": {},
   "source": [
    "We kregen onze database niet binnen redelijke tijd werkende in Kraken 2. Na wat experimenteren in bowtie 2, en het daarin werkende krijgen, hebben we besloten om in plaats van kraken 2\n",
    "bowtie 2 te gebruiken. Bowtie 2 werkt net iets anders als kraken 2, in plaats van 1 database aan de hand van alle referentie genomen maken, maakt bowtie 2 voor elk referentie genoom een index."
   ]
  },
  {
   "cell_type": "markdown",
   "metadata": {},
   "source": [
    "## Bowtie2\n",
    "We hebben bowtie 2 niet geintegreerd in onze snakemake pipeline, dit hebben we zo gedaan omdat de naam van de output bestanden niet in te stellen is. Waardoor snakemake deze niet herkend.\n",
    "\n",
    "<a href=\"https://bowtie-bio.sourceforge.net/bowtie2/index.shtml\">Bowtie 2</a> is een relatief snelle en geheugenefficiënte tool voor het vinden van reads in een reference/consensus genoom, een sequence alignment algorithms. Bowtie 2 is vooral goed in het uitlijnen op relatief lange genomen (bijvoorbeeld die van zoogdieren). Bowtie 2 indexeert het genoom met een zogeheten FM Index, wat het werkgeheugen gebruik relatief laag houdt. Bowtie 2 ondersteunt gapped, local, and paired-end alignment modes.\n",
    "\n",
    "Eerst hebben we met bowtie 2 indexen gemaakt van bijen RNA en verschillende RNA virussen."
   ]
  },
  {
   "cell_type": "code",
   "execution_count": null,
   "metadata": {},
   "outputs": [],
   "source": [
    "bowtie2-build /students/2023-2024/Thema07/Sick_beez/genomes/rnabee.fa /students/2023-2024/Thema07/Sick_beez/bowtie2_index/bee_index\n",
    "bowtie2-build /students/2023-2024/Thema07/Sick_beez/genomes/DWV.fna /students/2023-2024/Thema07/Sick_beez/bowtie2_index/DWV_index\n",
    "bowtie2-build /students/2023-2024/Thema07/Sick_beez/genomes/sacbrood_virus.fna /students/2023-2024/Thema07/Sick_beez/bowtie2_index/sacbrood_index\n",
    "bowtie2-build /students/2023-2024/Thema07/Sick_beez/genomes/black_queen_virus.fna /students/2023-2024/Thema07/Sick_beez/bowtie2_index/blackqueen_index\n",
    "bowtie2-build /students/2023-2024/Thema07/Sick_beez/genomes/lake_sinai_virus.fna /students/2023-2024/Thema07/Sick_beez/bowtie2_index/lakesinai_index\n",
    "bowtie2-build /students/2023-2024/Thema07/Sick_beez/genomes/bee_paralysis_virus.fna /students/2023-2024/Thema07/Sick_beez/bowtie2_index/paralysis_index"
   ]
  },
  {
   "cell_type": "markdown",
   "metadata": {},
   "source": [
    "Met behulp van onze bijen RNA index, hebben we gekeken of er RNA van bijen in onze data/reads zit."
   ]
  },
  {
   "cell_type": "code",
   "execution_count": null,
   "metadata": {},
   "outputs": [],
   "source": [
    "bowtie2 -x /students/2023-2024/Thema07/Sick_beez/bowtie2_index/bee_index -U /students/2023-2024/Thema07/Sick_beez/big_guppy/big_guppy.fastq.gz -S /students/2023-2024/Thema07/Sick_beez/bowtie2_output/bee.sam"
   ]
  },
  {
   "cell_type": "markdown",
   "metadata": {},
   "source": [
    "Omdat Bowtie 2 met de standaard instellingen geen match kon vinden, hebben we doormiddel van de bowtie 2 instellingen de vereisten wat verlaagt. -N staat voor de hoeveelheid mismatches die zijn toegestaan, -L staat voor de minimale <a href=\"https://en.wikipedia.org/wiki/Spaced_seed\">seed</a> length en -i beïnvloedt de gevoeligheid en specificiteit, zo staat S voor sensitive (de instelling die wij gebruiken), 1 staat voor hoeveel base er per keer aan de seed worden toegevoegd en 0.90 de minimale score nodig om met een seed door te mogen gaan."
   ]
  },
  {
   "cell_type": "code",
   "execution_count": null,
   "metadata": {},
   "outputs": [],
   "source": [
    "bowtie2 -N 1 -L 18 -i S,1,0.90 -x /students/2023-2024/Thema07/Sick_beez/bowtie2_index/bee_index -U /students/2023-2024/Thema07/Sick_beez/big_guppy/big_guppy.fastq.gz -S /students/2023-2024/Thema07/Sick_beez/bowtie2_output/bee.sam"
   ]
  },
  {
   "cell_type": "markdown",
   "metadata": {},
   "source": [
    "Met de soepelere eisen hebben we met behulp van onze indexen gekeken of er naast DWV, andere soorten virussen in onze data/reads voorkomen."
   ]
  },
  {
   "cell_type": "code",
   "execution_count": null,
   "metadata": {},
   "outputs": [],
   "source": [
    "bowtie2 -N 1 -L 18 -i S,1,0.90 -x /students/2023-2024/Thema07/Sick_beez/bowtie2_index/DWV_index -U /students/2023-2024/Thema07/Sick_beez/big_guppy/big_guppy.fastq.gz -S /students/2023-2024/Thema07/Sick_beez/bowtie2_output/DWV.sam\n",
    "bowtie2 -N 1 -L 18 -i S,1,0.90 -x /students/2023-2024/Thema07/Sick_beez/bowtie2_index/sacbrood_index -U /students/2023-2024/Thema07/Sick_beez/big_guppy/big_guppy.fastq.gz -S /students/2023-2024/Thema07/Sick_beez/bowtie2_output/sacbrood.sam\n",
    "bowtie2 -N 1 -L 18 -i S,1,0.90 -x /students/2023-2024/Thema07/Sick_beez/bowtie2_index/blackqueen_index -U /students/2023-2024/Thema07/Sick_beez/big_guppy/big_guppy.fastq.gz -S /students/2023-2024/Thema07/Sick_beez/bowtie2_output/blackqueen.sam\n",
    "bowtie2 -N 1 -L 18 -i S,1,0.90 -x /students/2023-2024/Thema07/Sick_beez/bowtie2_index/lakesinai_index -U /students/2023-2024/Thema07/Sick_beez/big_guppy/big_guppy.fastq.gz -S /students/2023-2024/Thema07/Sick_beez/bowtie2_output/lakesinai.sam\n",
    "bowtie2 -N 1 -L 18 -i S,1,0.90 -x /students/2023-2024/Thema07/Sick_beez/bowtie2_index/paralysis_index -U /students/2023-2024/Thema07/Sick_beez/big_guppy/big_guppy.fastq.gz -S /students/2023-2024/Thema07/Sick_beez/bowtie2_output/paralysis.sam"
   ]
  }
 ],
 "metadata": {
  "kernelspec": {
   "display_name": "Python 3",
   "language": "python",
   "name": "python3"
  },
  "language_info": {
   "codemirror_mode": {
    "name": "ipython",
    "version": 3
   },
   "file_extension": ".py",
   "mimetype": "text/x-python",
   "name": "python",
   "nbconvert_exporter": "python",
   "pygments_lexer": "ipython3",
   "version": "3.11.2"
  }
 },
 "nbformat": 4,
 "nbformat_minor": 2
}
